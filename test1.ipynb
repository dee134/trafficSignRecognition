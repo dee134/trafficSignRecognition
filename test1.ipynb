{
 "cells": [
  {
   "cell_type": "code",
   "execution_count": 15,
   "id": "c6d992c1",
   "metadata": {
    "scrolled": true
   },
   "outputs": [
    {
     "name": "stderr",
     "output_type": "stream",
     "text": [
      "WARNING:absl:Compiled the loaded model, but the compiled metrics have yet to be built. `model.compile_metrics` will be empty until you train or evaluate the model.\n"
     ]
    },
    {
     "name": "stdout",
     "output_type": "stream",
     "text": [
      "WARNING:tensorflow:6 out of the last 6 calls to <function TensorFlowTrainer.make_predict_function.<locals>.one_step_on_data_distributed at 0x0000022A186319E0> triggered tf.function retracing. Tracing is expensive and the excessive number of tracings could be due to (1) creating @tf.function repeatedly in a loop, (2) passing tensors with different shapes, (3) passing Python objects instead of tensors. For (1), please define your @tf.function outside of the loop. For (2), @tf.function has reduce_retracing=True option that can avoid unnecessary retracing. For (3), please refer to https://www.tensorflow.org/guide/function#controlling_retracing and https://www.tensorflow.org/api_docs/python/tf/function for  more details.\n"
     ]
    },
    {
     "name": "stderr",
     "output_type": "stream",
     "text": [
      "WARNING:tensorflow:6 out of the last 6 calls to <function TensorFlowTrainer.make_predict_function.<locals>.one_step_on_data_distributed at 0x0000022A186319E0> triggered tf.function retracing. Tracing is expensive and the excessive number of tracings could be due to (1) creating @tf.function repeatedly in a loop, (2) passing tensors with different shapes, (3) passing Python objects instead of tensors. For (1), please define your @tf.function outside of the loop. For (2), @tf.function has reduce_retracing=True option that can avoid unnecessary retracing. For (3), please refer to https://www.tensorflow.org/guide/function#controlling_retracing and https://www.tensorflow.org/api_docs/python/tf/function for  more details.\n"
     ]
    },
    {
     "name": "stdout",
     "output_type": "stream",
     "text": [
      "\u001b[1m1/1\u001b[0m \u001b[32m━━━━━━━━━━━━━━━━━━━━\u001b[0m\u001b[37m\u001b[0m \u001b[1m0s\u001b[0m 164ms/step\n",
      "Prediction probabilities: [[3.59371617e-14 1.11590702e-10 5.44270129e-10 3.01290839e-14\n",
      "  1.18900617e-13 1.12084644e-08 8.86914699e-16 2.99156533e-11\n",
      "  9.27605432e-15 1.95108944e-16 3.68155928e-09 1.37460721e-09\n",
      "  3.25608802e-08 1.98182985e-12 5.18279647e-13 1.84029936e-15\n",
      "  6.69082929e-15 8.02863165e-10 6.42449821e-16 3.95362660e-16\n",
      "  7.42484904e-13 3.18688027e-11 4.67754226e-14 1.66271212e-14\n",
      "  1.67968043e-13 5.81122060e-11 3.82596841e-16 1.06073394e-13\n",
      "  4.15375166e-14 1.89117900e-13 8.74671793e-11 1.19858720e-10\n",
      "  3.92132154e-22 3.57676371e-18 1.99335770e-09 3.06293585e-14\n",
      "  3.47609116e-12 5.47463811e-16 1.00000000e+00 8.93720874e-16\n",
      "  1.02905862e-08 1.69425511e-18 1.62409799e-12]]\n",
      "Predicted class index: 38\n",
      "Predicted class name: Keep right\n"
     ]
    }
   ],
   "source": [
    "import numpy as np\n",
    "import cv2\n",
    "from tensorflow.keras.models import load_model\n",
    "\n",
    "# Define the mapping function\n",
    "def getClassName(classNo):\n",
    "    if classNo == 0: return 'Speed Limit 20 km/h'\n",
    "    elif classNo == 1: return 'Speed Limit 30 km/h'\n",
    "    elif classNo == 2: return 'Speed Limit 50 km/h'\n",
    "    elif classNo == 3: return 'Speed Limit 60 km/h'\n",
    "    elif classNo == 4: return 'Speed Limit 70 km/h'\n",
    "    elif classNo == 5: return 'Speed Limit 80 km/h'\n",
    "    elif classNo == 6: return 'End of Speed Limit 80 km/h'\n",
    "    elif classNo == 7: return 'Speed Limit 100 km/h'\n",
    "    elif classNo == 8: return 'Speed Limit 120 km/h'\n",
    "    elif classNo == 9: return 'No passing'\n",
    "    elif classNo == 10: return 'No passing for vehicles over 3.5 metric tons'\n",
    "    elif classNo == 11: return 'Right-of-way at the next intersection'\n",
    "    elif classNo == 12: return 'Priority road'\n",
    "    elif classNo == 13: return 'Yield'\n",
    "    elif classNo == 14: return 'Stop'\n",
    "    elif classNo == 15: return 'No vehicles'\n",
    "    elif classNo == 16: return 'Vehicles over 3.5 metric tons prohibited'\n",
    "    elif classNo == 17: return 'No entry'\n",
    "    elif classNo == 18: return 'General caution'\n",
    "    elif classNo == 19: return 'Dangerous curve to the left'\n",
    "    elif classNo == 20: return 'Dangerous curve to the right'\n",
    "    elif classNo == 21: return 'Double curve'\n",
    "    elif classNo == 22: return 'Bumpy road'\n",
    "    elif classNo == 23: return 'Slippery road'\n",
    "    elif classNo == 24: return 'Road narrows on the right'\n",
    "    elif classNo == 25: return 'Road work'\n",
    "    elif classNo == 26: return 'Traffic signals'\n",
    "    elif classNo == 27: return 'Pedestrians'\n",
    "    elif classNo == 28: return 'Children crossing'\n",
    "    elif classNo == 29: return 'Bicycles crossing'\n",
    "    elif classNo == 30: return 'Beware of ice/snow'\n",
    "    elif classNo == 31: return 'Wild animals crossing'\n",
    "    elif classNo == 32: return 'End of all speed and passing limits'\n",
    "    elif classNo == 33: return 'Turn right ahead'\n",
    "    elif classNo == 34: return 'Turn left ahead'\n",
    "    elif classNo == 35: return 'Ahead only'\n",
    "    elif classNo == 36: return 'Go straight or right'\n",
    "    elif classNo == 37: return 'Go straight or left'\n",
    "    elif classNo == 38: return 'Keep right'\n",
    "    elif classNo == 39: return 'Keep left'\n",
    "    elif classNo == 40: return 'Roundabout mandatory'\n",
    "    elif classNo == 41: return 'End of no passing'\n",
    "    elif classNo == 42: return 'End of no passing by vehicles over 3.5 metric tons'\n",
    "    else: return 'Unknown class'\n",
    "\n",
    "# Load the model\n",
    "model = load_model('model.h5')\n",
    "\n",
    "# Load and preprocess a test image\n",
    "img_path = 'uploads/38_14012_1577672002.761749.png'  # Replace with your test image path\n",
    "img = cv2.imread(img_path)\n",
    "\n",
    "# Apply preprocessing\n",
    "img = grayscale(img)\n",
    "img = equalize(img)\n",
    "img = img / 255.0\n",
    "img = img.reshape(1, 32, 32, 1)  # Adjust shape to match your model's expected input\n",
    "\n",
    "# Make a prediction\n",
    "predictions = model.predict(img)\n",
    "\n",
    "# Output the prediction probabilities\n",
    "print(\"Prediction probabilities:\", predictions)\n",
    "\n",
    "# Determine the predicted class\n",
    "predicted_class_index = np.argmax(predictions, axis=1)[0]\n",
    "predicted_class_name = getClassName(predicted_class_index)\n",
    "print(\"Predicted class index:\", predicted_class_index)\n",
    "print(\"Predicted class name:\", predicted_class_name)\n"
   ]
  },
  {
   "cell_type": "code",
   "execution_count": null,
   "id": "3dfe2d02",
   "metadata": {},
   "outputs": [],
   "source": [
    "\n"
   ]
  },
  {
   "cell_type": "code",
   "execution_count": 2,
   "id": "10b66713",
   "metadata": {},
   "outputs": [
    {
     "data": {
      "text/plain": [
       "['Dataset']"
      ]
     },
     "execution_count": 2,
     "metadata": {},
     "output_type": "execute_result"
    }
   ],
   "source": [
    "# List the contents of the extracted folder\n",
    "os.listdir(extract_dir)\n"
   ]
  }
 ],
 "metadata": {
  "kernelspec": {
   "display_name": "Python 3 (ipykernel)",
   "language": "python",
   "name": "python3"
  },
  "language_info": {
   "codemirror_mode": {
    "name": "ipython",
    "version": 3
   },
   "file_extension": ".py",
   "mimetype": "text/x-python",
   "name": "python",
   "nbconvert_exporter": "python",
   "pygments_lexer": "ipython3",
   "version": "3.11.4"
  }
 },
 "nbformat": 4,
 "nbformat_minor": 5
}
